{
 "cells": [
  {
   "cell_type": "markdown",
   "metadata": {},
   "source": [
    "# O que é um Jupyter Notebook?\n",
    "\n",
    "O notebook é um formato de documento que contém tanto códigos quanto elementos de texto, figuras, links, vídeos, \n",
    "equações etc. Como podemos misturar texto e código em um mesmo lugar, esses documentos são lugares ideais para gerar \n",
    "e descrever códigos onde tanto a formulação da ideia, a visualização do resultado e a descrição do resultado podem \n",
    "ser feitos num mesmo lugar.\n",
    "\n",
    "## Células\n",
    "\n",
    "Células de texto aceitam marcação conhecida como Markdown. Em uma célula de código, podemos usar o Python como \n",
    "usamos em um script qualquer."
   ]
  },
  {
   "cell_type": "code",
   "execution_count": 1,
   "metadata": {},
   "outputs": [
    {
     "name": "stdout",
     "output_type": "stream",
     "text": [
      "Minicurso de Python --> SELINFO\n"
     ]
    }
   ],
   "source": [
    "print(\"Minicurso de Python --> SELINFO\")"
   ]
  },
  {
   "cell_type": "code",
   "execution_count": null,
   "metadata": {
    "collapsed": true
   },
   "outputs": [],
   "source": []
  }
 ],
 "metadata": {
  "kernelspec": {
   "display_name": "Python 3",
   "language": "python",
   "name": "python3"
  },
  "language_info": {
   "codemirror_mode": {
    "name": "ipython",
    "version": 3
   },
   "file_extension": ".py",
   "mimetype": "text/x-python",
   "name": "python",
   "nbconvert_exporter": "python",
   "pygments_lexer": "ipython3",
   "version": "3.6.3"
  }
 },
 "nbformat": 4,
 "nbformat_minor": 2
}
