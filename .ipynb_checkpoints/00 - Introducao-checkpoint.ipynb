{
 "cells": [
  {
   "cell_type": "markdown",
   "metadata": {},
   "source": [
    "# O que é um Jupyter Notebook?\n",
    "\n",
    "O notebook é um formato de documento que contém tanto códigos quanto elementos de texto, figuras, links, vídeos, \n",
    "equações etc. Como podemos misturar texto e código em um mesmo lugar, esses documentos são lugares ideais para gerar \n",
    "e descrever códigos onde tanto a formulação da ideia, a visualização do resultado e a descrição do resultado podem \n",
    "ser feitos num mesmo lugar.\n",
    "\n",
    "## Células\n",
    "\n",
    "Células de texto aceitam marcação conhecida como Markdown. Em uma célula de código, podemos usar o Python como \n",
    "usamos em um script qualquer."
   ]
  },
  {
   "cell_type": "code",
   "execution_count": 1,
   "metadata": {},
   "outputs": [
    {
     "name": "stdout",
     "output_type": "stream",
     "text": [
      "Minicurso de Python --> SELINFO\n"
     ]
    }
   ],
   "source": [
    "print(\"Minicurso de Python --> SELINFO\")"
   ]
  },
  {
   "cell_type": "markdown",
   "metadata": {},
   "source": [
    "# Números e operações numéricas\n",
    "\n",
    "## Tipos numéricos\n",
    "\n",
    "Em Python, temos 4 tipos numéricos: `int`, `long`, `float` e `complex`.\n",
    "    \n",
    "    1. int: números inteiros;\n",
    "    2. long: números inteiros muito grandes;\n",
    "    3. float: números de ponto flutuante;\n",
    "    4. complex: números complexos.\n",
    "\n",
    "## Outros tipos\n",
    "\n",
    "    1. str: caracteres (strings)\n",
    "    2. bool: valores lógicos (booleanos)"
   ]
  },
  {
   "cell_type": "code",
   "execution_count": 10,
   "metadata": {},
   "outputs": [
    {
     "name": "stdout",
     "output_type": "stream",
     "text": [
      "Adição\n",
      "5\n",
      "8.3\n"
     ]
    }
   ],
   "source": [
    "# Adição\"\n",
    "print(2 + 3)\n",
    "print(5.2 + 3.1)"
   ]
  },
  {
   "cell_type": "code",
   "execution_count": 11,
   "metadata": {},
   "outputs": [
    {
     "name": "stdout",
     "output_type": "stream",
     "text": [
      "2\n",
      "-224\n"
     ]
    }
   ],
   "source": [
    "# Subtração\n",
    "print(4 - 2)\n",
    "print(10 - 234)"
   ]
  },
  {
   "cell_type": "code",
   "execution_count": 13,
   "metadata": {},
   "outputs": [
    {
     "name": "stdout",
     "output_type": "stream",
     "text": [
      "50\n",
      "11.5\n"
     ]
    }
   ],
   "source": [
    "# Multiplicação\n",
    "print(5 * 10)\n",
    "print(2.3 * 5)"
   ]
  },
  {
   "cell_type": "code",
   "execution_count": 15,
   "metadata": {},
   "outputs": [
    {
     "name": "stdout",
     "output_type": "stream",
     "text": [
      "2.5\n",
      "2.0\n",
      "5.958333333333334\n"
     ]
    }
   ],
   "source": [
    "# Divisão\n",
    "print(10 / 4)\n",
    "print(12 / 6)\n",
    "print(14.3 / 2.4)"
   ]
  },
  {
   "cell_type": "code",
   "execution_count": 17,
   "metadata": {},
   "outputs": [
    {
     "name": "stdout",
     "output_type": "stream",
     "text": [
      "2\n",
      "2\n"
     ]
    }
   ],
   "source": [
    "# Divisão inteira\n",
    "print(10 // 4)\n",
    "print(12 // 6)"
   ]
  },
  {
   "cell_type": "code",
   "execution_count": 19,
   "metadata": {},
   "outputs": [
    {
     "name": "stdout",
     "output_type": "stream",
     "text": [
      "2\n",
      "0\n"
     ]
    }
   ],
   "source": [
    "# Resto da divisão\n",
    "print(10 % 4)\n",
    "print(12 % 6)"
   ]
  },
  {
   "cell_type": "code",
   "execution_count": 21,
   "metadata": {},
   "outputs": [
    {
     "name": "stdout",
     "output_type": "stream",
     "text": [
      "1024\n",
      "87.84670816352883\n",
      "12230.590463999997\n",
      "16.0\n"
     ]
    }
   ],
   "source": [
    "# Exponenciação\n",
    "print(2 ** 10)\n",
    "print(7 ** 2.3)\n",
    "print(4.8 ** 6)\n",
    "print(256 ** 0.5)"
   ]
  },
  {
   "cell_type": "code",
   "execution_count": 26,
   "metadata": {},
   "outputs": [
    {
     "name": "stdout",
     "output_type": "stream",
     "text": [
      "(5+2j)\n",
      "3.0\n",
      "5.0\n"
     ]
    }
   ],
   "source": [
    "# Números complexos\n",
    "print(5 + 2j)\n",
    "complexo = 3 + 5j\n",
    "print(complexo.real)\n",
    "print(complexo.imag)"
   ]
  },
  {
   "cell_type": "code",
   "execution_count": null,
   "metadata": {
    "collapsed": true
   },
   "outputs": [],
   "source": []
  }
 ],
 "metadata": {
  "kernelspec": {
   "display_name": "Python 3",
   "language": "python",
   "name": "python3"
  },
  "language_info": {
   "codemirror_mode": {
    "name": "ipython",
    "version": 3
   },
   "file_extension": ".py",
   "mimetype": "text/x-python",
   "name": "python",
   "nbconvert_exporter": "python",
   "pygments_lexer": "ipython3",
   "version": "3.6.3"
  }
 },
 "nbformat": 4,
 "nbformat_minor": 2
}
