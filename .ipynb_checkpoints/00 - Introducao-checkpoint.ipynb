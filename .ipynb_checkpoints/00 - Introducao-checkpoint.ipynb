{
 "cells": [
  {
   "cell_type": "markdown",
   "metadata": {},
   "source": [
    "# O que é um Jupyter Notebook?\n",
    "\n",
    "O notebook é um formato de documento que contém tanto códigos quanto elementos de texto, figuras, links, vídeos, \n",
    "equações etc. Como podemos misturar texto e código em um mesmo lugar, esses documentos são lugares ideais para gerar \n",
    "e descrever códigos onde tanto a formulação da ideia, a visualização do resultado e a descrição do resultado podem \n",
    "ser feitos num mesmo lugar.\n",
    "\n",
    "## Células\n",
    "\n",
    "Células de texto aceitam marcação conhecida como Markdown. Em uma célula de código, podemos usar o Python como \n",
    "usamos em um script qualquer."
   ]
  },
  {
   "cell_type": "code",
   "execution_count": 1,
   "metadata": {},
   "outputs": [
    {
     "name": "stdout",
     "output_type": "stream",
     "text": [
      "Minicurso de Python --> SELINFO\n"
     ]
    }
   ],
   "source": [
    "print(\"Minicurso de Python --> SELINFO\")"
   ]
  },
  {
   "cell_type": "markdown",
   "metadata": {},
   "source": [
    "# Números e operações numéricas\n",
    "\n",
    "## Tipos numéricos\n",
    "\n",
    "Em Python, temos três tipos numéricos:\n",
    "    \n",
    "    1. int: números inteiros;\n",
    "    2. float: números de ponto flutuante;\n",
    "    3. complex: números complexos.\n",
    "\n",
    "## Outros tipos\n",
    "\n",
    "    1. str: caracteres (strings)\n",
    "    2. bool: valores lógicos (booleanos)"
   ]
  },
  {
   "cell_type": "code",
   "execution_count": 10,
   "metadata": {},
   "outputs": [
    {
     "name": "stdout",
     "output_type": "stream",
     "text": [
      "Adição\n",
      "5\n",
      "8.3\n"
     ]
    }
   ],
   "source": [
    "# Adição\"\n",
    "print(2 + 3)\n",
    "print(5.2 + 3.1)"
   ]
  },
  {
   "cell_type": "code",
   "execution_count": 11,
   "metadata": {},
   "outputs": [
    {
     "name": "stdout",
     "output_type": "stream",
     "text": [
      "2\n",
      "-224\n"
     ]
    }
   ],
   "source": [
    "# Subtração\n",
    "print(4 - 2)\n",
    "print(10 - 234)"
   ]
  },
  {
   "cell_type": "code",
   "execution_count": 13,
   "metadata": {},
   "outputs": [
    {
     "name": "stdout",
     "output_type": "stream",
     "text": [
      "50\n",
      "11.5\n"
     ]
    }
   ],
   "source": [
    "# Multiplicação\n",
    "print(5 * 10)\n",
    "print(2.3 * 5)"
   ]
  },
  {
   "cell_type": "code",
   "execution_count": 15,
   "metadata": {},
   "outputs": [
    {
     "name": "stdout",
     "output_type": "stream",
     "text": [
      "2.5\n",
      "2.0\n",
      "5.958333333333334\n"
     ]
    }
   ],
   "source": [
    "# Divisão\n",
    "print(10 / 4)\n",
    "print(12 / 6)\n",
    "print(14.3 / 2.4)"
   ]
  },
  {
   "cell_type": "code",
   "execution_count": 17,
   "metadata": {},
   "outputs": [
    {
     "name": "stdout",
     "output_type": "stream",
     "text": [
      "2\n",
      "2\n"
     ]
    }
   ],
   "source": [
    "# Divisão inteira\n",
    "print(10 // 4)\n",
    "print(12 // 6)"
   ]
  },
  {
   "cell_type": "code",
   "execution_count": 19,
   "metadata": {},
   "outputs": [
    {
     "name": "stdout",
     "output_type": "stream",
     "text": [
      "2\n",
      "0\n"
     ]
    }
   ],
   "source": [
    "# Resto da divisão\n",
    "print(10 % 4)\n",
    "print(12 % 6)"
   ]
  },
  {
   "cell_type": "code",
   "execution_count": 21,
   "metadata": {},
   "outputs": [
    {
     "name": "stdout",
     "output_type": "stream",
     "text": [
      "1024\n",
      "87.84670816352883\n",
      "12230.590463999997\n",
      "16.0\n"
     ]
    }
   ],
   "source": [
    "# Exponenciação\n",
    "print(2 ** 10)\n",
    "print(7 ** 2.3)\n",
    "print(4.8 ** 6)\n",
    "print(256 ** 0.5)"
   ]
  },
  {
   "cell_type": "code",
   "execution_count": 26,
   "metadata": {},
   "outputs": [
    {
     "name": "stdout",
     "output_type": "stream",
     "text": [
      "(5+2j)\n",
      "3.0\n",
      "5.0\n"
     ]
    }
   ],
   "source": [
    "# Números complexos\n",
    "print(5 + 2j)\n",
    "complexo = 3 + 5j\n",
    "print(complexo.real)\n",
    "print(complexo.imag)"
   ]
  },
  {
   "cell_type": "markdown",
   "metadata": {},
   "source": [
    "# Variáveis\n",
    "\n",
    "As variáveis são tipadas dinamicamente, ou seja, o tipo depende da atribuição do valor às mesmas."
   ]
  },
  {
   "cell_type": "code",
   "execution_count": 27,
   "metadata": {},
   "outputs": [
    {
     "data": {
      "text/plain": [
       "int"
      ]
     },
     "execution_count": 27,
     "metadata": {},
     "output_type": "execute_result"
    }
   ],
   "source": [
    "numero = 2\n",
    "type(numero)"
   ]
  },
  {
   "cell_type": "code",
   "execution_count": 28,
   "metadata": {},
   "outputs": [
    {
     "data": {
      "text/plain": [
       "float"
      ]
     },
     "execution_count": 28,
     "metadata": {},
     "output_type": "execute_result"
    }
   ],
   "source": [
    "numero = 10.3\n",
    "type(numero)"
   ]
  },
  {
   "cell_type": "code",
   "execution_count": 29,
   "metadata": {},
   "outputs": [
    {
     "data": {
      "text/plain": [
       "complex"
      ]
     },
     "execution_count": 29,
     "metadata": {},
     "output_type": "execute_result"
    }
   ],
   "source": [
    "numero = 10 + 4j\n",
    "type(numero)"
   ]
  },
  {
   "cell_type": "code",
   "execution_count": 39,
   "metadata": {},
   "outputs": [
    {
     "data": {
      "text/plain": [
       "str"
      ]
     },
     "execution_count": 39,
     "metadata": {},
     "output_type": "execute_result"
    }
   ],
   "source": [
    "nome = \"Fulano Dital da Silva\"\n",
    "type(nome)"
   ]
  },
  {
   "cell_type": "code",
   "execution_count": 40,
   "metadata": {},
   "outputs": [
    {
     "data": {
      "text/plain": [
       "bool"
      ]
     },
     "execution_count": 40,
     "metadata": {},
     "output_type": "execute_result"
    }
   ],
   "source": [
    "valor = True\n",
    "type(valor)"
   ]
  },
  {
   "cell_type": "markdown",
   "metadata": {},
   "source": [
    "# Strings\n",
    "\n",
    "Strings são uma sequência de caracteres. Isso quer dizer que Python entende toda string como sequências de caractere, e por isso interpreta cada caractere também em separado. Por exemplo, Python entende que a string \"olá\" é uma sequência de letras em ordem específica. Por isso podemor usar o index para pegar letras específicas da palavra, como se você estivesse manipulando um array em Java (chamado de lista em Python).\n",
    "\n",
    "## Criando uma String\n",
    "\n",
    "Para criar uma string em python você pode usar tanto aspas simples quanto aspas duplas, além de aspas triplas."
   ]
  },
  {
   "cell_type": "code",
   "execution_count": 45,
   "metadata": {},
   "outputs": [
    {
     "name": "stdout",
     "output_type": "stream",
     "text": [
      "SELINFO 2017 - Minicurso de Python\n",
      "SELINFO \"2017\" - Minicurso de Python\n"
     ]
    }
   ],
   "source": [
    "print('SELINFO 2017 - Minicurso de Python')\n",
    "print('SELINFO \"2017\" - Minicurso de Python')"
   ]
  },
  {
   "cell_type": "code",
   "execution_count": 46,
   "metadata": {},
   "outputs": [
    {
     "name": "stdout",
     "output_type": "stream",
     "text": [
      "SELINFO 2017 - Minicurso de Python\n",
      "SELINFO '2017' - Minicurso de Python\n"
     ]
    }
   ],
   "source": [
    "print(\"SELINFO 2017 - Minicurso de Python\")\n",
    "print(\"SELINFO '2017' - Minicurso de Python\")"
   ]
  },
  {
   "cell_type": "code",
   "execution_count": 51,
   "metadata": {},
   "outputs": [
    {
     "name": "stdout",
     "output_type": "stream",
     "text": [
      "SELINFO 2017\n",
      "Minicurso de Python\n",
      "    --- Aprendendo do básico ao intermediário :-)\n"
     ]
    }
   ],
   "source": [
    "mensagem = '''SELINFO 2017\n",
    "Minicurso de Python\n",
    "    --- Aprendendo do básico ao intermediário :-)'''\n",
    "print(mensagem)"
   ]
  },
  {
   "cell_type": "code",
   "execution_count": 52,
   "metadata": {},
   "outputs": [
    {
     "data": {
      "text/plain": [
       "82"
      ]
     },
     "execution_count": 52,
     "metadata": {},
     "output_type": "execute_result"
    }
   ],
   "source": [
    "len(mensagem)"
   ]
  },
  {
   "cell_type": "code",
   "execution_count": 56,
   "metadata": {},
   "outputs": [
    {
     "name": "stdout",
     "output_type": "stream",
     "text": [
      "Quantidade de caracteres: 27\n",
      "u\n"
     ]
    }
   ],
   "source": [
    "mensagem = \"Hoje eu vou aprender Python\"\n",
    "print(\"Quantidade de caracteres:\", len(mensagem))\n",
    "print(mensagem[10]) # índice começa de 0."
   ]
  },
  {
   "cell_type": "code",
   "execution_count": 63,
   "metadata": {},
   "outputs": [
    {
     "name": "stdout",
     "output_type": "stream",
     "text": [
      "eu vou aprender\n",
      "Hoje eu vou aprender Python\n",
      "j uvuarne y\n",
      "nohtyP rednerpa uov ue ejoH\n",
      "aprender Py\n"
     ]
    }
   ],
   "source": [
    "print(mensagem[5:20])\n",
    "print(mensagem[:])\n",
    "print(mensagem[2:23:2])\n",
    "print(mensagem[::-1])\n",
    "print(mensagem[-15: -4])"
   ]
  },
  {
   "cell_type": "code",
   "execution_count": 67,
   "metadata": {},
   "outputs": [
    {
     "name": "stdout",
     "output_type": "stream",
     "text": [
      "Fulano Dital\n",
      "Fulano Fulano Fulano \n"
     ]
    }
   ],
   "source": [
    "nome = \"Fulano \"\n",
    "sobrenome = \"Dital\"\n",
    "print(nome + sobrenome)\n",
    "print(nome * 3)"
   ]
  },
  {
   "cell_type": "code",
   "execution_count": 68,
   "metadata": {},
   "outputs": [
    {
     "name": "stdout",
     "output_type": "stream",
     "text": [
      "FULANO \n",
      "fulano \n"
     ]
    }
   ],
   "source": [
    "print(nome.upper())\n",
    "print(nome.lower())"
   ]
  },
  {
   "cell_type": "code",
   "execution_count": 69,
   "metadata": {},
   "outputs": [
    {
     "data": {
      "text/plain": [
       "['Hoje', 'eu', 'vou', 'aprender', 'Python']"
      ]
     },
     "execution_count": 69,
     "metadata": {},
     "output_type": "execute_result"
    }
   ],
   "source": [
    "mensagem.split()"
   ]
  },
  {
   "cell_type": "code",
   "execution_count": 70,
   "metadata": {},
   "outputs": [
    {
     "data": {
      "text/plain": [
       "['30', '11', '2017']"
      ]
     },
     "execution_count": 70,
     "metadata": {},
     "output_type": "execute_result"
    }
   ],
   "source": [
    "data = \"30/11/2017\"\n",
    "data.split(\"/\")"
   ]
  },
  {
   "cell_type": "code",
   "execution_count": 73,
   "metadata": {},
   "outputs": [
    {
     "name": "stdout",
     "output_type": "stream",
     "text": [
      "30 11 2017\n"
     ]
    }
   ],
   "source": [
    "dia, mes, ano = data.split(\"/\")\n",
    "print(dia, mes, ano)"
   ]
  },
  {
   "cell_type": "code",
   "execution_count": 77,
   "metadata": {},
   "outputs": [
    {
     "data": {
      "text/plain": [
       "'30-11-2017'"
      ]
     },
     "execution_count": 77,
     "metadata": {},
     "output_type": "execute_result"
    }
   ],
   "source": [
    "data_vetor = data.split('/')\n",
    "data_vetor\n",
    "'-'.join(data_vetor)"
   ]
  },
  {
   "cell_type": "markdown",
   "metadata": {},
   "source": [
    "# Saída formatada"
   ]
  },
  {
   "cell_type": "code",
   "execution_count": 81,
   "metadata": {},
   "outputs": [
    {
     "name": "stdout",
     "output_type": "stream",
     "text": [
      "# 10 - Fulano: 10.5\n"
     ]
    }
   ],
   "source": [
    "numero = 10\n",
    "nota = 10.5\n",
    "nome = \"Fulano\"\n",
    "\n",
    "print(\"# %d - %s: %.1f\" % (numero, nome, nota))"
   ]
  },
  {
   "cell_type": "code",
   "execution_count": 83,
   "metadata": {},
   "outputs": [
    {
     "name": "stdout",
     "output_type": "stream",
     "text": [
      "13.99\n",
      "                    13.99\n",
      "13.98700\n",
      "14\n"
     ]
    }
   ],
   "source": [
    "numero = 13.987\n",
    "print(\"%1.2f\" % (numero))\n",
    "print(\"%25.2f\" % (numero))\n",
    "print(\"%1.5f\" % (numero))\n",
    "print(\"%1.0f\" % (numero))"
   ]
  },
  {
   "cell_type": "code",
   "execution_count": 84,
   "metadata": {},
   "outputs": [
    {
     "name": "stdout",
     "output_type": "stream",
     "text": [
      "012\n",
      " 12\n"
     ]
    }
   ],
   "source": [
    "numero = 12\n",
    "print(\"%03d\" % (numero))\n",
    "print(\"%3d\" % (numero))"
   ]
  },
  {
   "cell_type": "markdown",
   "metadata": {},
   "source": [
    "# Entrada de dados"
   ]
  },
  {
   "cell_type": "code",
   "execution_count": 88,
   "metadata": {},
   "outputs": [
    {
     "name": "stdout",
     "output_type": "stream",
     "text": [
      "Digite seu nome: Giva\n",
      "Digite um número inteiro: 10\n",
      "Digite sua nota: 3\n",
      "10 - Giva\n",
      "\tNota: 3.00\n"
     ]
    }
   ],
   "source": [
    "nome = input(\"Digite seu nome: \")\n",
    "numero = int(input(\"Digite um número inteiro: \"))\n",
    "nota = float(input(\"Digite sua nota: \"))\n",
    "\n",
    "print(\"%d - %s\" % (numero, nome))\n",
    "print(\" -- Nota: %3.2f\" % nota)"
   ]
  },
  {
   "cell_type": "markdown",
   "metadata": {},
   "source": [
    "# Comandos condicionais (if, else, elif)"
   ]
  },
  {
   "cell_type": "code",
   "execution_count": 93,
   "metadata": {},
   "outputs": [
    {
     "name": "stdout",
     "output_type": "stream",
     "text": [
      "Digite sua nota: 5\n",
      "Recuperação\n",
      "Já tem a nota da recuperação(s/n)?s\n",
      "Digite sua nota da recuperação: 4\n",
      "Infelizmente não deu certo...\n"
     ]
    }
   ],
   "source": [
    "nota = float(input(\"Digite sua nota: \"))\n",
    "\n",
    "if nota >= 6.0:\n",
    "    print(\"Aprovado!!!\")\n",
    "    print(\"Parabéns!!!\")\n",
    "elif nota >= 3.0:\n",
    "    print(\"Recuperação\")\n",
    "    prova_rec = input(\"Já tem a nota da recuperação(s/n)?\")\n",
    "    if prova_rec == 's':\n",
    "        nota_rec = float(input(\"Digite sua nota da recuperação: \"))\n",
    "        if nota_rec >= 6.0:\n",
    "            print(\"Parabéns, você passou!!!\")\n",
    "        else:\n",
    "            print(\"Infelizmente não deu certo...\")\n",
    "    else:\n",
    "        print(\"Boa sorte!!!\")\n",
    "else:\n",
    "    print(\"Infelizmente não deu certo... Próximo ano tem novamente.\")"
   ]
  },
  {
   "cell_type": "markdown",
   "metadata": {},
   "source": [
    "# Comandos de repetição (for e while)"
   ]
  },
  {
   "cell_type": "code",
   "execution_count": 94,
   "metadata": {},
   "outputs": [
    {
     "name": "stdout",
     "output_type": "stream",
     "text": [
      "0\n",
      "1\n",
      "2\n",
      "3\n",
      "4\n",
      "5\n",
      "6\n",
      "7\n",
      "8\n",
      "9\n",
      "10\n"
     ]
    }
   ],
   "source": [
    "i = 0\n",
    "while i < 11:\n",
    "    print(i)\n",
    "    i = i + 1"
   ]
  },
  {
   "cell_type": "code",
   "execution_count": 101,
   "metadata": {},
   "outputs": [
    {
     "name": "stdout",
     "output_type": "stream",
     "text": [
      "Primeiro número da sequência: 2\n",
      "Último número da sequência: 7\n",
      "2\n",
      "3\n",
      "4\n",
      "5\n",
      "6\n",
      "7\n"
     ]
    }
   ],
   "source": [
    "primeiro = int(input(\"Primeiro número da sequência: \")) \n",
    "ultimo = int(input(\"Último número da sequência: \"))\n",
    "while primeiro <= ultimo:\n",
    "    print(primeiro)\n",
    "    primeiro += 1"
   ]
  },
  {
   "cell_type": "code",
   "execution_count": 97,
   "metadata": {},
   "outputs": [
    {
     "name": "stdout",
     "output_type": "stream",
     "text": [
      "0\n",
      "1\n",
      "2\n",
      "3\n",
      "4\n",
      "5\n",
      "6\n",
      "7\n",
      "8\n",
      "9\n",
      "10\n"
     ]
    }
   ],
   "source": [
    "for i in range(11):\n",
    "    print(i)"
   ]
  },
  {
   "cell_type": "code",
   "execution_count": 98,
   "metadata": {},
   "outputs": [
    {
     "name": "stdout",
     "output_type": "stream",
     "text": [
      "maçã\n",
      "uva\n",
      "abacate\n",
      "morango\n",
      "banana\n"
     ]
    }
   ],
   "source": [
    "lista = ['maçã', 'uva', 'abacate', 'morango', 'banana']\n",
    "for fruta in lista:\n",
    "    print(fruta)"
   ]
  },
  {
   "cell_type": "code",
   "execution_count": 99,
   "metadata": {},
   "outputs": [
    {
     "name": "stdout",
     "output_type": "stream",
     "text": [
      "a\n",
      "e\n",
      "i\n",
      "o\n",
      "u\n"
     ]
    }
   ],
   "source": [
    "vogais = 'aeiou'\n",
    "for vogal in vogais:\n",
    "    print(vogal)"
   ]
  },
  {
   "cell_type": "code",
   "execution_count": 103,
   "metadata": {},
   "outputs": [
    {
     "name": "stdout",
     "output_type": "stream",
     "text": [
      "Primeiro número da sequência: 10\n",
      "Último número da sequência: 40\n",
      "10\n",
      "11\n",
      "12\n",
      "13\n",
      "14\n",
      "15\n",
      "16\n",
      "17\n",
      "18\n",
      "19\n",
      "20\n",
      "21\n",
      "22\n",
      "23\n",
      "24\n",
      "25\n",
      "26\n",
      "27\n",
      "28\n",
      "29\n",
      "30\n"
     ]
    }
   ],
   "source": [
    "primeiro = int(input(\"Primeiro número da sequência: \")) \n",
    "ultimo = int(input(\"Último número da sequência: \"))\n",
    "while primeiro <= ultimo:\n",
    "    if primeiro > 30:\n",
    "        break\n",
    "    else:\n",
    "        print(primeiro)\n",
    "        primeiro += 1"
   ]
  },
  {
   "cell_type": "markdown",
   "metadata": {},
   "source": [
    "# Listas"
   ]
  },
  {
   "cell_type": "code",
   "execution_count": 104,
   "metadata": {},
   "outputs": [
    {
     "name": "stdout",
     "output_type": "stream",
     "text": [
      "['maçã', 'uva', 'abacate', 'morango', 'banana']\n",
      "[0, 1, 2, 3, 4, 5, 6, 7, 8, 9, 10, 11, 12, 13, 14, 15, 16, 17, 18, 19]\n"
     ]
    }
   ],
   "source": [
    "lista = ['maçã', 'uva', 'abacate', 'morango', 'banana']\n",
    "numeros = list(range(20))\n",
    "print(lista)\n",
    "print(numeros)"
   ]
  },
  {
   "cell_type": "code",
   "execution_count": 106,
   "metadata": {},
   "outputs": [
    {
     "name": "stdout",
     "output_type": "stream",
     "text": [
      "5\n"
     ]
    }
   ],
   "source": [
    "print(len(lista))"
   ]
  },
  {
   "cell_type": "code",
   "execution_count": 107,
   "metadata": {},
   "outputs": [
    {
     "name": "stdout",
     "output_type": "stream",
     "text": [
      "['maçã', 'uva', 'abacate', 'morango', 'banana', 'framboesa']\n"
     ]
    }
   ],
   "source": [
    "lista.append(\"framboesa\")\n",
    "print(lista)"
   ]
  },
  {
   "cell_type": "code",
   "execution_count": 108,
   "metadata": {},
   "outputs": [
    {
     "name": "stdout",
     "output_type": "stream",
     "text": [
      "morango\n",
      "['abacate', 'morango', 'banana']\n"
     ]
    }
   ],
   "source": [
    "print(lista[3])\n",
    "print(lista[2:5])"
   ]
  },
  {
   "cell_type": "code",
   "execution_count": 109,
   "metadata": {},
   "outputs": [
    {
     "name": "stdout",
     "output_type": "stream",
     "text": [
      "['maçã', 'uva', 'morango', 'banana', 'framboesa']\n"
     ]
    }
   ],
   "source": [
    "del lista[2]\n",
    "print(lista)"
   ]
  },
  {
   "cell_type": "markdown",
   "metadata": {},
   "source": [
    "# Funções"
   ]
  },
  {
   "cell_type": "code",
   "execution_count": 112,
   "metadata": {},
   "outputs": [
    {
     "name": "stdout",
     "output_type": "stream",
     "text": [
      "53.5\n"
     ]
    }
   ],
   "source": [
    "def soma_vetor(vetor):\n",
    "    soma = 0\n",
    "    for numero in vetor:\n",
    "        soma += numero\n",
    "    return soma\n",
    "        \n",
    "numeros = [2, 4, 5.2, 10, 32.3]\n",
    "print(soma_vetor(numeros))"
   ]
  },
  {
   "cell_type": "code",
   "execution_count": 114,
   "metadata": {},
   "outputs": [
    {
     "name": "stdout",
     "output_type": "stream",
     "text": [
      "36\n"
     ]
    }
   ],
   "source": [
    "import random\n",
    "\n",
    "n = random.randint(1, 100)\n",
    "print(n)"
   ]
  },
  {
   "cell_type": "code",
   "execution_count": 115,
   "metadata": {},
   "outputs": [
    {
     "name": "stdout",
     "output_type": "stream",
     "text": [
      "28\n"
     ]
    }
   ],
   "source": [
    "from random import randint\n",
    "n = randint(1, 100)\n",
    "print(n)"
   ]
  },
  {
   "cell_type": "code",
   "execution_count": 119,
   "metadata": {},
   "outputs": [
    {
     "name": "stdout",
     "output_type": "stream",
     "text": [
      "['maçã', 'uva', 'morango', 'banana', 'framboesa']\n",
      "morango\n"
     ]
    }
   ],
   "source": [
    "print(lista)\n",
    "print(random.choice(lista))"
   ]
  },
  {
   "cell_type": "code",
   "execution_count": 121,
   "metadata": {},
   "outputs": [
    {
     "name": "stdout",
     "output_type": "stream",
     "text": [
      "['framboesa', 'morango', 'banana', 'uva', 'maçã']\n",
      "['framboesa', 'banana', 'maçã', 'morango', 'uva']\n"
     ]
    }
   ],
   "source": [
    "print(lista)\n",
    "random.shuffle(lista)\n",
    "print(lista)"
   ]
  },
  {
   "cell_type": "markdown",
   "metadata": {
    "collapsed": true
   },
   "source": [
    "# Dicionários\n",
    "\n",
    "Dicionários são tabelas para armazenamento eficiente de pares chave, valor. Eles são implementados através de eficientes tabelas de espalhamento (hash tables)."
   ]
  },
  {
   "cell_type": "code",
   "execution_count": 1,
   "metadata": {},
   "outputs": [
    {
     "data": {
      "text/plain": [
       "{'Fulano': '3302-5752', 'Sicrano': '3214-5578'}"
      ]
     },
     "execution_count": 1,
     "metadata": {},
     "output_type": "execute_result"
    }
   ],
   "source": [
    "tel = {'Fulano': '3302-5752', 'Sicrano': '3214-5578'}\n",
    "tel"
   ]
  },
  {
   "cell_type": "code",
   "execution_count": 4,
   "metadata": {},
   "outputs": [
    {
     "name": "stdout",
     "output_type": "stream",
     "text": [
      "dict_keys(['Fulano', 'Sicrano'])\n"
     ]
    }
   ],
   "source": [
    "tel.keys()"
   ]
  },
  {
   "cell_type": "code",
   "execution_count": 5,
   "metadata": {},
   "outputs": [
    {
     "data": {
      "text/plain": [
       "dict_values(['3302-5752', '3214-5578'])"
      ]
     },
     "execution_count": 5,
     "metadata": {},
     "output_type": "execute_result"
    }
   ],
   "source": [
    "tel.values()"
   ]
  },
  {
   "cell_type": "code",
   "execution_count": 7,
   "metadata": {},
   "outputs": [
    {
     "data": {
      "text/plain": [
       "'3214-5578'"
      ]
     },
     "execution_count": 7,
     "metadata": {},
     "output_type": "execute_result"
    }
   ],
   "source": [
    "tel['Sicrano']"
   ]
  },
  {
   "cell_type": "code",
   "execution_count": 9,
   "metadata": {},
   "outputs": [
    {
     "data": {
      "text/plain": [
       "{'Fulano': '3302-5752', 'João': '3214-0099', 'Sicrano': '3214-5578'}"
      ]
     },
     "execution_count": 9,
     "metadata": {},
     "output_type": "execute_result"
    }
   ],
   "source": [
    "tel['João'] = '3214-0099'\n",
    "tel"
   ]
  },
  {
   "cell_type": "code",
   "execution_count": 10,
   "metadata": {},
   "outputs": [
    {
     "name": "stdout",
     "output_type": "stream",
     "text": [
      "Fale com Fulano no telefone 3302-5752\n",
      "Fale com Sicrano no telefone 3214-5578\n",
      "Fale com João no telefone 3214-0099\n"
     ]
    }
   ],
   "source": [
    "for key in tel.keys():\n",
    "    print(\"Fale com %s no telefone %s\"% (key, tel[key]))"
   ]
  },
  {
   "cell_type": "markdown",
   "metadata": {},
   "source": [
    "# Compreensão de listas\n",
    "\n",
    "Compreensão de listas é um dos recursos mais interessantes da linguagem Python. Esse recurso possibilita a criação dinâmica de novas listas a partir de objetos iteráveis, sendo mais eficiente que o uso de um laço for e produzindo código mais legível."
   ]
  },
  {
   "cell_type": "code",
   "execution_count": 11,
   "metadata": {},
   "outputs": [
    {
     "data": {
      "text/plain": [
       "[0, 1, 4, 9, 16, 25, 36, 49, 64, 81]"
      ]
     },
     "execution_count": 11,
     "metadata": {},
     "output_type": "execute_result"
    }
   ],
   "source": [
    "sqr = [i**2 for i in range(10)]\n",
    "sqr"
   ]
  },
  {
   "cell_type": "code",
   "execution_count": 12,
   "metadata": {},
   "outputs": [
    {
     "data": {
      "text/plain": [
       "[5, 7, 11]"
      ]
     },
     "execution_count": 12,
     "metadata": {},
     "output_type": "execute_result"
    }
   ],
   "source": [
    "doc = ['Hello', 'Embrapa', 'Informática']\n",
    "wlen = [len(word) for word in doc]\n",
    "wlen"
   ]
  },
  {
   "cell_type": "code",
   "execution_count": null,
   "metadata": {
    "collapsed": true
   },
   "outputs": [],
   "source": []
  }
 ],
 "metadata": {
  "kernelspec": {
   "display_name": "Python 3",
   "language": "python",
   "name": "python3"
  },
  "language_info": {
   "codemirror_mode": {
    "name": "ipython",
    "version": 3
   },
   "file_extension": ".py",
   "mimetype": "text/x-python",
   "name": "python",
   "nbconvert_exporter": "python",
   "pygments_lexer": "ipython3",
   "version": "3.6.3"
  }
 },
 "nbformat": 4,
 "nbformat_minor": 2
}
