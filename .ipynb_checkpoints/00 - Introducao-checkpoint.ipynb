{
 "cells": [
  {
   "cell_type": "markdown",
   "metadata": {},
   "source": [
    "# O que é um Jupyter Notebook?\n",
    "\n",
    "O notebook é um formato de documento que contém tanto códigos quanto elementos de texto, figuras, links, vídeos, \n",
    "equações etc. Como podemos misturar texto e código em um mesmo lugar, esses documentos são lugares ideais para gerar \n",
    "e descrever códigos onde tanto a formulação da ideia, a visualização do resultado e a descrição do resultado podem \n",
    "ser feitos num mesmo lugar.\n",
    "\n",
    "## Células\n",
    "\n",
    "Células de texto aceitam marcação conhecida como Markdown. Em uma célula de código, podemos usar o Python como \n",
    "usamos em um script qualquer."
   ]
  },
  {
   "cell_type": "code",
   "execution_count": null,
   "metadata": {},
   "outputs": [],
   "source": [
    "print(\"Minicurso de Python\")"
   ]
  },
  {
   "cell_type": "markdown",
   "metadata": {},
   "source": [
    "# Números e operações numéricas\n",
    "\n",
    "## Tipos numéricos\n",
    "\n",
    "Em Python, temos três tipos numéricos:\n",
    "    \n",
    "    1. int: números inteiros;\n",
    "    2. float: números de ponto flutuante;\n",
    "    3. complex: números complexos.\n",
    "\n",
    "## Outros tipos\n",
    "\n",
    "    1. str: caracteres (strings)\n",
    "    2. bool: valores lógicos (booleanos)"
   ]
  },
  {
   "cell_type": "code",
   "execution_count": null,
   "metadata": {},
   "outputs": [],
   "source": [
    "# Adição\"\n",
    "print(2 + 3)\n",
    "print(5.2 + 3.1)"
   ]
  },
  {
   "cell_type": "code",
   "execution_count": null,
   "metadata": {},
   "outputs": [],
   "source": [
    "# Subtração\n",
    "print(4 - 2)\n",
    "print(10 - 234)"
   ]
  },
  {
   "cell_type": "code",
   "execution_count": null,
   "metadata": {},
   "outputs": [],
   "source": [
    "# Multiplicação\n",
    "print(5 * 10)\n",
    "print(2.3 * 5)"
   ]
  },
  {
   "cell_type": "code",
   "execution_count": null,
   "metadata": {},
   "outputs": [],
   "source": [
    "# Divisão\n",
    "print(10 / 4)\n",
    "print(12 / 6)\n",
    "print(14.3 / 2.4)"
   ]
  },
  {
   "cell_type": "code",
   "execution_count": null,
   "metadata": {},
   "outputs": [],
   "source": [
    "# Divisão inteira\n",
    "print(10 // 4)\n",
    "print(12 // 6)"
   ]
  },
  {
   "cell_type": "code",
   "execution_count": null,
   "metadata": {},
   "outputs": [],
   "source": [
    "# Resto da divisão\n",
    "print(10 % 4)\n",
    "print(12 % 6)"
   ]
  },
  {
   "cell_type": "code",
   "execution_count": null,
   "metadata": {},
   "outputs": [],
   "source": [
    "# Exponenciação\n",
    "print(2 ** 10)\n",
    "print(7 ** 2.3)\n",
    "print(4.8 ** 6)\n",
    "print(256 ** 0.5)"
   ]
  },
  {
   "cell_type": "code",
   "execution_count": null,
   "metadata": {},
   "outputs": [],
   "source": [
    "# Números complexos\n",
    "print(5 + 2j)\n",
    "complexo = 3 + 5j\n",
    "print(complexo.real)\n",
    "print(complexo.imag)"
   ]
  },
  {
   "cell_type": "markdown",
   "metadata": {},
   "source": [
    "# Variáveis\n",
    "\n",
    "As variáveis são tipadas dinamicamente, ou seja, o tipo depende da atribuição do valor às mesmas."
   ]
  },
  {
   "cell_type": "code",
   "execution_count": null,
   "metadata": {},
   "outputs": [],
   "source": [
    "numero = 2\n",
    "type(numero)"
   ]
  },
  {
   "cell_type": "code",
   "execution_count": null,
   "metadata": {},
   "outputs": [],
   "source": [
    "numero = 10.3\n",
    "type(numero)"
   ]
  },
  {
   "cell_type": "code",
   "execution_count": null,
   "metadata": {},
   "outputs": [],
   "source": [
    "numero = 10 + 4j\n",
    "type(numero)"
   ]
  },
  {
   "cell_type": "code",
   "execution_count": null,
   "metadata": {},
   "outputs": [],
   "source": [
    "nome = \"Fulano Dital da Silva\"\n",
    "type(nome)"
   ]
  },
  {
   "cell_type": "code",
   "execution_count": null,
   "metadata": {},
   "outputs": [],
   "source": [
    "valor = True\n",
    "type(valor)"
   ]
  },
  {
   "cell_type": "markdown",
   "metadata": {},
   "source": [
    "# Strings\n",
    "\n",
    "Strings são uma sequência de caracteres. Isso quer dizer que Python entende toda string como sequências de caractere, e por isso interpreta cada caractere também em separado. Por exemplo, Python entende que a string \"olá\" é uma sequência de letras em ordem específica. Por isso podemor usar o index para pegar letras específicas da palavra, como se você estivesse manipulando um array em Java (chamado de lista em Python).\n",
    "\n",
    "## Criando uma String\n",
    "\n",
    "Para criar uma string em python você pode usar tanto aspas simples quanto aspas duplas, além de aspas triplas."
   ]
  },
  {
   "cell_type": "code",
   "execution_count": null,
   "metadata": {},
   "outputs": [],
   "source": [
    "print('Semana de Inovação 2018 - Minicurso de Python')\n",
    "print('Semana de Inovação \"2018\" - Minicurso de Python')"
   ]
  },
  {
   "cell_type": "code",
   "execution_count": null,
   "metadata": {},
   "outputs": [],
   "source": [
    "print(\"Semana de Inovação 2018 - Minicurso de Python\")\n",
    "print(\"Semana de Inovação '2018' - Minicurso de Python\")"
   ]
  },
  {
   "cell_type": "code",
   "execution_count": null,
   "metadata": {},
   "outputs": [],
   "source": [
    "mensagem = '''Semana de Inovação 2018\n",
    "Minicurso de Python\n",
    "    --- Aprendendo do básico ao intermediário :-)'''\n",
    "print(mensagem)"
   ]
  },
  {
   "cell_type": "code",
   "execution_count": null,
   "metadata": {},
   "outputs": [],
   "source": [
    "len(mensagem)"
   ]
  },
  {
   "cell_type": "code",
   "execution_count": null,
   "metadata": {},
   "outputs": [],
   "source": [
    "mensagem = \"Hoje eu vou aprender Python\"\n",
    "print(\"Quantidade de caracteres:\", len(mensagem))\n",
    "print(mensagem[10]) # índice começa de 0."
   ]
  },
  {
   "cell_type": "code",
   "execution_count": null,
   "metadata": {},
   "outputs": [],
   "source": [
    "print(mensagem[5:20])\n",
    "print(mensagem[:])\n",
    "print(mensagem[2:23:2])\n",
    "print(mensagem[::-1])\n",
    "print(mensagem[-15: -4])"
   ]
  },
  {
   "cell_type": "code",
   "execution_count": null,
   "metadata": {},
   "outputs": [],
   "source": [
    "nome = \"Fulano \"\n",
    "sobrenome = \"Dital\"\n",
    "print(nome + sobrenome)\n",
    "print(nome * 3)"
   ]
  },
  {
   "cell_type": "code",
   "execution_count": null,
   "metadata": {},
   "outputs": [],
   "source": [
    "print(nome.upper())\n",
    "print(nome.lower())"
   ]
  },
  {
   "cell_type": "code",
   "execution_count": null,
   "metadata": {},
   "outputs": [],
   "source": [
    "mensagem.split()"
   ]
  },
  {
   "cell_type": "code",
   "execution_count": null,
   "metadata": {},
   "outputs": [],
   "source": [
    "data = \"30/11/2017\"\n",
    "data.split(\"/\")"
   ]
  },
  {
   "cell_type": "code",
   "execution_count": null,
   "metadata": {},
   "outputs": [],
   "source": [
    "dia, mes, ano = data.split(\"/\")\n",
    "print(dia, mes, ano)"
   ]
  },
  {
   "cell_type": "code",
   "execution_count": null,
   "metadata": {},
   "outputs": [],
   "source": [
    "data_vetor = data.split('/')\n",
    "data_vetor\n",
    "'-'.join(data_vetor)"
   ]
  },
  {
   "cell_type": "markdown",
   "metadata": {},
   "source": [
    "# Saída formatada (usando composição de string)"
   ]
  },
  {
   "cell_type": "code",
   "execution_count": 12,
   "metadata": {},
   "outputs": [
    {
     "name": "stdout",
     "output_type": "stream",
     "text": [
      "# 10 - Fulano: 10.5\n"
     ]
    }
   ],
   "source": [
    "numero = 10\n",
    "nota = 10.5\n",
    "nome = \"Fulano\"\n",
    "\n",
    "print(\"# %d - %s: %.1f\" % (numero, nome, nota))"
   ]
  },
  {
   "cell_type": "code",
   "execution_count": 6,
   "metadata": {},
   "outputs": [
    {
     "name": "stdout",
     "output_type": "stream",
     "text": [
      "13.99\n",
      "                    13.99\n",
      "13.98700\n",
      "14\n"
     ]
    }
   ],
   "source": [
    "numero = 13.987\n",
    "print(\"%1.2f\" % (numero))\n",
    "print(\"%25.2f\" % (numero))\n",
    "print(\"%1.5f\" % (numero))\n",
    "print(\"%1.0f\" % (numero))"
   ]
  },
  {
   "cell_type": "code",
   "execution_count": 8,
   "metadata": {},
   "outputs": [
    {
     "name": "stdout",
     "output_type": "stream",
     "text": [
      "012\n",
      " 12\n"
     ]
    }
   ],
   "source": [
    "numero = 12\n",
    "print(\"%03d\" % (numero))\n",
    "print(\"%3d\" % (numero))"
   ]
  },
  {
   "cell_type": "markdown",
   "metadata": {},
   "source": [
    "# Saída formatada (usando o método .format())"
   ]
  },
  {
   "cell_type": "code",
   "execution_count": 20,
   "metadata": {},
   "outputs": [
    {
     "name": "stdout",
     "output_type": "stream",
     "text": [
      "# 10 - Fulano: 10.52\n",
      "# 10 - Fulano: 10.5\n"
     ]
    }
   ],
   "source": [
    "numero = 10\n",
    "nota = 10.52\n",
    "nome = \"Fulano\"\n",
    "\n",
    "print(\"# {} - {}: {}\".format(numero, nome, nota))\n",
    "print(\"# {:d} - {:s}: {:.1f}\".format(numero, nome, nota))"
   ]
  },
  {
   "cell_type": "code",
   "execution_count": 7,
   "metadata": {},
   "outputs": [
    {
     "name": "stdout",
     "output_type": "stream",
     "text": [
      "13.99\n",
      "                    13.99\n",
      "13.98700\n",
      "14\n"
     ]
    }
   ],
   "source": [
    "numero = 13.987\n",
    "print(\"{:1.2f}\".format(numero))\n",
    "print(\"{:25.2f}\".format(numero))\n",
    "print(\"{:1.5f}\".format(numero))\n",
    "print(\"{:1.0f}\".format(numero))"
   ]
  },
  {
   "cell_type": "code",
   "execution_count": 14,
   "metadata": {},
   "outputs": [
    {
     "name": "stdout",
     "output_type": "stream",
     "text": [
      "012\n",
      " 12\n"
     ]
    }
   ],
   "source": [
    "numero = 12\n",
    "print(\"{:03d}\".format(numero))\n",
    "print(\"{:3d}\".format(numero))"
   ]
  },
  {
   "cell_type": "markdown",
   "metadata": {},
   "source": [
    "# Entrada de dados"
   ]
  },
  {
   "cell_type": "code",
   "execution_count": 16,
   "metadata": {},
   "outputs": [
    {
     "name": "stdout",
     "output_type": "stream",
     "text": [
      "Digite seu nome: Givanaldo\n",
      "Digite um número inteiro: 12\n",
      "Digite sua nota: 12.4\n",
      "12 - Givanaldo\n",
      " -- Nota: 12.40\n"
     ]
    }
   ],
   "source": [
    "nome = input(\"Digite seu nome: \")\n",
    "numero = int(input(\"Digite um número inteiro: \"))\n",
    "nota = float(input(\"Digite sua nota: \"))\n",
    "\n",
    "print(\"{} - {}\".format(numero, nome))\n",
    "print(\"-- Nota: {:3.2f}\".format(nota))"
   ]
  },
  {
   "cell_type": "markdown",
   "metadata": {},
   "source": [
    "# Comandos condicionais (if, else, elif)"
   ]
  },
  {
   "cell_type": "code",
   "execution_count": 21,
   "metadata": {},
   "outputs": [
    {
     "name": "stdout",
     "output_type": "stream",
     "text": [
      "Digite sua nota: 10\n",
      "Aprovado!!!\n",
      "Parabéns!!!\n"
     ]
    }
   ],
   "source": [
    "nota = float(input(\"Digite sua nota: \"))\n",
    "\n",
    "if nota >= 6.0:\n",
    "    print(\"Aprovado!!!\")\n",
    "    print(\"Parabéns!!!\")\n",
    "elif nota >= 3.0:\n",
    "    print(\"Recuperação\")\n",
    "    prova_rec = input(\"Já tem a nota da recuperação(s/n)?\")\n",
    "    if prova_rec == 's':\n",
    "        nota_rec = float(input(\"Digite sua nota da recuperação: \"))\n",
    "        if nota_rec >= 6.0:\n",
    "            print(\"Parabéns, você passou!!!\")\n",
    "        else:\n",
    "            print(\"Infelizmente não deu certo...\")\n",
    "    else:\n",
    "        print(\"Boa sorte!!!\")\n",
    "else:\n",
    "    print(\"Infelizmente não deu certo... Próximo ano tem novamente.\")"
   ]
  },
  {
   "cell_type": "markdown",
   "metadata": {},
   "source": [
    "# Comandos de repetição (for e while)"
   ]
  },
  {
   "cell_type": "code",
   "execution_count": null,
   "metadata": {},
   "outputs": [],
   "source": [
    "i = 0\n",
    "while i < 11:\n",
    "    print(i)\n",
    "    i = i + 1"
   ]
  },
  {
   "cell_type": "code",
   "execution_count": null,
   "metadata": {},
   "outputs": [],
   "source": [
    "primeiro = int(input(\"Primeiro número da sequência: \")) \n",
    "ultimo = int(input(\"Último número da sequência: \"))\n",
    "while primeiro <= ultimo:\n",
    "    print(primeiro)\n",
    "    primeiro += 1"
   ]
  },
  {
   "cell_type": "code",
   "execution_count": null,
   "metadata": {},
   "outputs": [],
   "source": [
    "for i in range(11):\n",
    "    print(i)"
   ]
  },
  {
   "cell_type": "code",
   "execution_count": null,
   "metadata": {},
   "outputs": [],
   "source": [
    "lista = ['maçã', 'uva', 'abacate', 'morango', 'banana']\n",
    "for fruta in lista:\n",
    "    print(fruta)"
   ]
  },
  {
   "cell_type": "code",
   "execution_count": null,
   "metadata": {},
   "outputs": [],
   "source": [
    "vogais = 'aeiou'\n",
    "for vogal in vogais:\n",
    "    print(vogal)"
   ]
  },
  {
   "cell_type": "code",
   "execution_count": null,
   "metadata": {},
   "outputs": [],
   "source": [
    "primeiro = int(input(\"Primeiro número da sequência: \")) \n",
    "ultimo = int(input(\"Último número da sequência: \"))\n",
    "while primeiro <= ultimo:\n",
    "    if primeiro > 30:\n",
    "        break\n",
    "    else:\n",
    "        print(primeiro)\n",
    "        primeiro += 1"
   ]
  },
  {
   "cell_type": "markdown",
   "metadata": {},
   "source": [
    "# Listas"
   ]
  },
  {
   "cell_type": "code",
   "execution_count": null,
   "metadata": {},
   "outputs": [],
   "source": [
    "lista = ['maçã', 'uva', 'abacate', 'morango', 'banana']\n",
    "numeros = list(range(20))\n",
    "print(lista)\n",
    "print(numeros)"
   ]
  },
  {
   "cell_type": "code",
   "execution_count": null,
   "metadata": {},
   "outputs": [],
   "source": [
    "print(len(lista))"
   ]
  },
  {
   "cell_type": "code",
   "execution_count": null,
   "metadata": {},
   "outputs": [],
   "source": [
    "lista.append(\"framboesa\")\n",
    "print(lista)"
   ]
  },
  {
   "cell_type": "code",
   "execution_count": null,
   "metadata": {},
   "outputs": [],
   "source": [
    "print(lista[3])\n",
    "print(lista[2:5])"
   ]
  },
  {
   "cell_type": "code",
   "execution_count": null,
   "metadata": {},
   "outputs": [],
   "source": [
    "del lista[2]\n",
    "print(lista)"
   ]
  },
  {
   "cell_type": "markdown",
   "metadata": {},
   "source": [
    "# Funções"
   ]
  },
  {
   "cell_type": "code",
   "execution_count": 22,
   "metadata": {},
   "outputs": [],
   "source": [
    "def soma_vetor(vetor):\n",
    "    soma = 0\n",
    "    for numero in vetor:\n",
    "        soma += numero\n",
    "    return soma"
   ]
  },
  {
   "cell_type": "code",
   "execution_count": 23,
   "metadata": {},
   "outputs": [
    {
     "name": "stdout",
     "output_type": "stream",
     "text": [
      "53.5\n"
     ]
    }
   ],
   "source": [
    "numeros = [2, 4, 5.2, 10, 32.3]\n",
    "print(soma_vetor(numeros))"
   ]
  },
  {
   "cell_type": "code",
   "execution_count": null,
   "metadata": {},
   "outputs": [],
   "source": [
    "import random\n",
    "\n",
    "n = random.randint(1, 100)\n",
    "print(n)"
   ]
  },
  {
   "cell_type": "code",
   "execution_count": null,
   "metadata": {},
   "outputs": [],
   "source": [
    "from random import randint\n",
    "n = randint(1, 100)\n",
    "print(n)"
   ]
  },
  {
   "cell_type": "code",
   "execution_count": null,
   "metadata": {},
   "outputs": [],
   "source": [
    "print(lista)\n",
    "print(random.choice(lista))"
   ]
  },
  {
   "cell_type": "code",
   "execution_count": null,
   "metadata": {},
   "outputs": [],
   "source": [
    "print(lista)\n",
    "random.shuffle(lista)\n",
    "print(lista)"
   ]
  },
  {
   "cell_type": "code",
   "execution_count": 26,
   "metadata": {},
   "outputs": [
    {
     "name": "stdout",
     "output_type": "stream",
     "text": [
      "12.0\n",
      "3628800\n",
      "3.141592653589793\n"
     ]
    }
   ],
   "source": [
    "import math\n",
    "print(math.sqrt(144))\n",
    "print(math.factorial(10))\n",
    "print(math.radians(180))"
   ]
  },
  {
   "cell_type": "markdown",
   "metadata": {
    "collapsed": true
   },
   "source": [
    "# Dicionários\n",
    "\n",
    "Dicionários são tabelas para armazenamento eficiente de pares chave, valor. Eles são implementados através de eficientes tabelas de espalhamento (hash tables)."
   ]
  },
  {
   "cell_type": "code",
   "execution_count": 27,
   "metadata": {},
   "outputs": [
    {
     "data": {
      "text/plain": [
       "{'Fulano': '3302-5752', 'Sicrano': '3214-5578'}"
      ]
     },
     "execution_count": 27,
     "metadata": {},
     "output_type": "execute_result"
    }
   ],
   "source": [
    "tel = {'Fulano': '3302-5752', 'Sicrano': '3214-5578'}\n",
    "tel"
   ]
  },
  {
   "cell_type": "code",
   "execution_count": 28,
   "metadata": {},
   "outputs": [
    {
     "data": {
      "text/plain": [
       "dict_keys(['Fulano', 'Sicrano'])"
      ]
     },
     "execution_count": 28,
     "metadata": {},
     "output_type": "execute_result"
    }
   ],
   "source": [
    "tel.keys()"
   ]
  },
  {
   "cell_type": "code",
   "execution_count": 29,
   "metadata": {},
   "outputs": [
    {
     "data": {
      "text/plain": [
       "dict_values(['3302-5752', '3214-5578'])"
      ]
     },
     "execution_count": 29,
     "metadata": {},
     "output_type": "execute_result"
    }
   ],
   "source": [
    "tel.values()"
   ]
  },
  {
   "cell_type": "code",
   "execution_count": 31,
   "metadata": {},
   "outputs": [
    {
     "data": {
      "text/plain": [
       "dict_items([('Fulano', '3302-5752'), ('Sicrano', '3214-5578')])"
      ]
     },
     "execution_count": 31,
     "metadata": {},
     "output_type": "execute_result"
    }
   ],
   "source": [
    "tel.items()"
   ]
  },
  {
   "cell_type": "code",
   "execution_count": 30,
   "metadata": {},
   "outputs": [
    {
     "data": {
      "text/plain": [
       "'3214-5578'"
      ]
     },
     "execution_count": 30,
     "metadata": {},
     "output_type": "execute_result"
    }
   ],
   "source": [
    "tel['Sicrano']"
   ]
  },
  {
   "cell_type": "code",
   "execution_count": 32,
   "metadata": {},
   "outputs": [
    {
     "data": {
      "text/plain": [
       "{'Fulano': '3302-5752', 'João': '3214-0099', 'Sicrano': '3214-5578'}"
      ]
     },
     "execution_count": 32,
     "metadata": {},
     "output_type": "execute_result"
    }
   ],
   "source": [
    "tel['João'] = '3214-0099'\n",
    "tel"
   ]
  },
  {
   "cell_type": "code",
   "execution_count": 33,
   "metadata": {},
   "outputs": [
    {
     "name": "stdout",
     "output_type": "stream",
     "text": [
      "Fale com Fulano no telefone 3302-5752\n",
      "Fale com Sicrano no telefone 3214-5578\n",
      "Fale com João no telefone 3214-0099\n"
     ]
    }
   ],
   "source": [
    "for key in tel.keys():\n",
    "    print(\"Fale com %s no telefone %s\"% (key, tel[key]))"
   ]
  },
  {
   "cell_type": "markdown",
   "metadata": {},
   "source": [
    "# Compreensão de listas\n",
    "\n",
    "Compreensão de listas é um dos recursos mais interessantes da linguagem Python. Esse recurso possibilita a criação dinâmica de novas listas a partir de objetos iteráveis, sendo mais eficiente que o uso de um laço for e produzindo código mais legível."
   ]
  },
  {
   "cell_type": "code",
   "execution_count": 39,
   "metadata": {},
   "outputs": [
    {
     "name": "stdout",
     "output_type": "stream",
     "text": [
      "[0, 1, 4, 9, 16, 25, 36, 49, 64, 81]\n"
     ]
    }
   ],
   "source": [
    "sqr = [i**2 for i in range(10)]\n",
    "print(sqr)"
   ]
  },
  {
   "cell_type": "code",
   "execution_count": 38,
   "metadata": {},
   "outputs": [
    {
     "name": "stdout",
     "output_type": "stream",
     "text": [
      "[5, 7, 11]\n"
     ]
    }
   ],
   "source": [
    "doc = ['Hello', 'Embrapa', 'Informática']\n",
    "wlen = [len(word) for word in doc]\n",
    "print(wlen)"
   ]
  },
  {
   "cell_type": "markdown",
   "metadata": {
    "collapsed": true
   },
   "source": [
    "### Criação de uma matriz numérica preenchida com zeros"
   ]
  },
  {
   "cell_type": "code",
   "execution_count": 41,
   "metadata": {},
   "outputs": [],
   "source": [
    "lin = 3\n",
    "col = 4"
   ]
  },
  {
   "cell_type": "code",
   "execution_count": 46,
   "metadata": {},
   "outputs": [
    {
     "name": "stdout",
     "output_type": "stream",
     "text": [
      "A =  [[0, 0, 0, 0], [0, 0, 0, 0], [0, 0, 0, 0]]\n"
     ]
    }
   ],
   "source": [
    "A = [0] * lin\n",
    "for i in range(lin):\n",
    "    A[i] = [0] * col\n",
    "print(\"A = \", A)"
   ]
  },
  {
   "cell_type": "code",
   "execution_count": 47,
   "metadata": {},
   "outputs": [
    {
     "name": "stdout",
     "output_type": "stream",
     "text": [
      "B =  [[0, 0, 0, 0], [0, 0, 0, 0], [0, 0, 0, 0]]\n"
     ]
    }
   ],
   "source": [
    "B = [[0]*col for i in range(lin)]\n",
    "print(\"B = \", B)"
   ]
  },
  {
   "cell_type": "code",
   "execution_count": null,
   "metadata": {
    "collapsed": true
   },
   "outputs": [],
   "source": []
  }
 ],
 "metadata": {
  "kernelspec": {
   "display_name": "Python 3",
   "language": "python",
   "name": "python3"
  },
  "language_info": {
   "codemirror_mode": {
    "name": "ipython",
    "version": 3
   },
   "file_extension": ".py",
   "mimetype": "text/x-python",
   "name": "python",
   "nbconvert_exporter": "python",
   "pygments_lexer": "ipython3",
   "version": "3.6.3"
  }
 },
 "nbformat": 4,
 "nbformat_minor": 2
}
