{
 "cells": [
  {
   "cell_type": "markdown",
   "metadata": {},
   "source": [
    "# NumPy"
   ]
  },
  {
   "cell_type": "code",
   "execution_count": 4,
   "metadata": {},
   "outputs": [
    {
     "data": {
      "text/plain": [
       "array([0, 1, 2, 3])"
      ]
     },
     "execution_count": 4,
     "metadata": {},
     "output_type": "execute_result"
    }
   ],
   "source": [
    "import numpy as np\n",
    "A = np.array([0,1,2,3])\n",
    "A"
   ]
  },
  {
   "cell_type": "code",
   "execution_count": 2,
   "metadata": {},
   "outputs": [
    {
     "data": {
      "text/plain": [
       "array([[0, 1],\n",
       "       [2, 3]])"
      ]
     },
     "execution_count": 2,
     "metadata": {},
     "output_type": "execute_result"
    }
   ],
   "source": [
    "A.shape = 2,2\n",
    "A"
   ]
  },
  {
   "cell_type": "code",
   "execution_count": 5,
   "metadata": {},
   "outputs": [
    {
     "data": {
      "text/plain": [
       "array([[0, 1, 2],\n",
       "       [3, 4, 5]])"
      ]
     },
     "execution_count": 5,
     "metadata": {},
     "output_type": "execute_result"
    }
   ],
   "source": [
    "A = np.array([ [0,1,2], [3,4,5] ])\n",
    "A"
   ]
  },
  {
   "cell_type": "code",
   "execution_count": 6,
   "metadata": {},
   "outputs": [
    {
     "data": {
      "text/plain": [
       "2"
      ]
     },
     "execution_count": 6,
     "metadata": {},
     "output_type": "execute_result"
    }
   ],
   "source": [
    "A.ndim"
   ]
  },
  {
   "cell_type": "code",
   "execution_count": 7,
   "metadata": {},
   "outputs": [
    {
     "data": {
      "text/plain": [
       "(2, 3)"
      ]
     },
     "execution_count": 7,
     "metadata": {},
     "output_type": "execute_result"
    }
   ],
   "source": [
    "A.shape"
   ]
  },
  {
   "cell_type": "code",
   "execution_count": 8,
   "metadata": {},
   "outputs": [
    {
     "data": {
      "text/plain": [
       "array([0, 1, 2, 3, 4, 5, 6, 7, 8, 9])"
      ]
     },
     "execution_count": 8,
     "metadata": {},
     "output_type": "execute_result"
    }
   ],
   "source": [
    "dados = range(10)\n",
    "B = np.array(dados)\n",
    "B"
   ]
  },
  {
   "cell_type": "code",
   "execution_count": 9,
   "metadata": {},
   "outputs": [
    {
     "data": {
      "text/plain": [
       "1"
      ]
     },
     "execution_count": 9,
     "metadata": {},
     "output_type": "execute_result"
    }
   ],
   "source": [
    "B.ndim"
   ]
  },
  {
   "cell_type": "code",
   "execution_count": 10,
   "metadata": {},
   "outputs": [
    {
     "data": {
      "text/plain": [
       "(10,)"
      ]
     },
     "execution_count": 10,
     "metadata": {},
     "output_type": "execute_result"
    }
   ],
   "source": [
    "B.shape"
   ]
  },
  {
   "cell_type": "code",
   "execution_count": 11,
   "metadata": {},
   "outputs": [
    {
     "data": {
      "text/plain": [
       "array([[0, 1],\n",
       "       [2, 3],\n",
       "       [4, 5],\n",
       "       [6, 7],\n",
       "       [8, 9]])"
      ]
     },
     "execution_count": 11,
     "metadata": {},
     "output_type": "execute_result"
    }
   ],
   "source": [
    "B.shape = 5,2\n",
    "B"
   ]
  },
  {
   "cell_type": "code",
   "execution_count": 12,
   "metadata": {},
   "outputs": [
    {
     "data": {
      "text/plain": [
       "3"
      ]
     },
     "execution_count": 12,
     "metadata": {},
     "output_type": "execute_result"
    }
   ],
   "source": [
    "B[1, 1] # lembrando que índices começam de 0."
   ]
  },
  {
   "cell_type": "code",
   "execution_count": 15,
   "metadata": {},
   "outputs": [
    {
     "data": {
      "text/plain": [
       "array([ 0. ,  0.2,  0.4,  0.6,  0.8,  1. ])"
      ]
     },
     "execution_count": 15,
     "metadata": {},
     "output_type": "execute_result"
    }
   ],
   "source": [
    "# obter 6 números reais igualmente espaçados no intervalo [0,1].\n",
    "v = np.linspace(0, 1, 6)\n",
    "v"
   ]
  },
  {
   "cell_type": "code",
   "execution_count": 17,
   "metadata": {},
   "outputs": [
    {
     "data": {
      "text/plain": [
       "array([[ 0.,  0.,  0.,  0.,  0.],\n",
       "       [ 0.,  0.,  0.,  0.,  0.],\n",
       "       [ 0.,  0.,  0.,  0.,  0.],\n",
       "       [ 0.,  0.,  0.,  0.,  0.]])"
      ]
     },
     "execution_count": 17,
     "metadata": {},
     "output_type": "execute_result"
    }
   ],
   "source": [
    "A = np.zeros((4,5))\n",
    "A"
   ]
  },
  {
   "cell_type": "code",
   "execution_count": 18,
   "metadata": {},
   "outputs": [
    {
     "data": {
      "text/plain": [
       "array([[ 1.,  1.,  1.],\n",
       "       [ 1.,  1.,  1.],\n",
       "       [ 1.,  1.,  1.]])"
      ]
     },
     "execution_count": 18,
     "metadata": {},
     "output_type": "execute_result"
    }
   ],
   "source": [
    "B = np.ones((3,3))\n",
    "B"
   ]
  },
  {
   "cell_type": "code",
   "execution_count": 19,
   "metadata": {},
   "outputs": [
    {
     "data": {
      "text/plain": [
       "array([[ 1.,  0.,  0.],\n",
       "       [ 0.,  1.,  0.],\n",
       "       [ 0.,  0.,  1.]])"
      ]
     },
     "execution_count": 19,
     "metadata": {},
     "output_type": "execute_result"
    }
   ],
   "source": [
    "I = np.identity(3)\n",
    "I"
   ]
  },
  {
   "cell_type": "code",
   "execution_count": 20,
   "metadata": {},
   "outputs": [
    {
     "data": {
      "text/plain": [
       "array([ 0.2452267 ,  0.7509378 ,  0.09589277,  0.07045788])"
      ]
     },
     "execution_count": 20,
     "metadata": {},
     "output_type": "execute_result"
    }
   ],
   "source": [
    "A = np.random.rand(4)\n",
    "A"
   ]
  },
  {
   "cell_type": "markdown",
   "metadata": {},
   "source": [
    "# Carregamento de arquivos"
   ]
  },
  {
   "cell_type": "code",
   "execution_count": 13,
   "metadata": {},
   "outputs": [
    {
     "name": "stdout",
     "output_type": "stream",
     "text": [
      "# year\thare\tlynx\tcarrot\r\n",
      "1900\t30e3\t4e3\t48300\r\n",
      "1901\t47.2e3\t6.1e3\t48200\r\n",
      "1902\t70.2e3\t9.8e3\t41500\r\n",
      "1903\t77.4e3\t35.2e3\t38200\r\n",
      "1904\t36.3e3\t59.4e3\t40600\r\n",
      "1905\t20.6e3\t41.7e3\t39800\r\n",
      "1906\t18.1e3\t19e3\t38600\r\n",
      "1907\t21.4e3\t13e3\t42300\r\n",
      "1908\t22e3\t8.3e3\t44500\r\n",
      "1909\t25.4e3\t9.1e3\t42100\r\n",
      "1910\t27.1e3\t7.4e3\t46000\r\n",
      "1911\t40.3e3\t8e3\t46800\r\n",
      "1912\t57e3\t12.3e3\t43800\r\n",
      "1913\t76.6e3\t19.5e3\t40900\r\n",
      "1914\t52.3e3\t45.7e3\t39400\r\n",
      "1915\t19.5e3\t51.1e3\t39000\r\n",
      "1916\t11.2e3\t29.7e3\t36700\r\n",
      "1917\t7.6e3\t15.8e3\t41800\r\n",
      "1918\t14.6e3\t9.7e3\t43300\r\n",
      "1919\t16.2e3\t10.1e3\t41300\r\n",
      "1920\t24.7e3\t8.6e3\t47300\r\n"
     ]
    }
   ],
   "source": [
    "!cat ./data/populations.txt"
   ]
  },
  {
   "cell_type": "code",
   "execution_count": 21,
   "metadata": {},
   "outputs": [
    {
     "data": {
      "text/plain": [
       "array([[  1900.,  30000.,   4000.,  48300.],\n",
       "       [  1901.,  47200.,   6100.,  48200.],\n",
       "       [  1902.,  70200.,   9800.,  41500.],\n",
       "       [  1903.,  77400.,  35200.,  38200.],\n",
       "       [  1904.,  36300.,  59400.,  40600.],\n",
       "       [  1905.,  20600.,  41700.,  39800.],\n",
       "       [  1906.,  18100.,  19000.,  38600.],\n",
       "       [  1907.,  21400.,  13000.,  42300.],\n",
       "       [  1908.,  22000.,   8300.,  44500.],\n",
       "       [  1909.,  25400.,   9100.,  42100.],\n",
       "       [  1910.,  27100.,   7400.,  46000.],\n",
       "       [  1911.,  40300.,   8000.,  46800.],\n",
       "       [  1912.,  57000.,  12300.,  43800.],\n",
       "       [  1913.,  76600.,  19500.,  40900.],\n",
       "       [  1914.,  52300.,  45700.,  39400.],\n",
       "       [  1915.,  19500.,  51100.,  39000.],\n",
       "       [  1916.,  11200.,  29700.,  36700.],\n",
       "       [  1917.,   7600.,  15800.,  41800.],\n",
       "       [  1918.,  14600.,   9700.,  43300.],\n",
       "       [  1919.,  16200.,  10100.,  41300.],\n",
       "       [  1920.,  24700.,   8600.,  47300.]])"
      ]
     },
     "execution_count": 21,
     "metadata": {},
     "output_type": "execute_result"
    }
   ],
   "source": [
    "populations = np.loadtxt('./data/populations.txt')\n",
    "populations"
   ]
  },
  {
   "cell_type": "markdown",
   "metadata": {},
   "source": [
    "# Matplotlib"
   ]
  },
  {
   "cell_type": "code",
   "execution_count": 30,
   "metadata": {},
   "outputs": [
    {
     "data": {
      "text/plain": [
       "<matplotlib.legend.Legend at 0x11858dcc0>"
      ]
     },
     "execution_count": 30,
     "metadata": {},
     "output_type": "execute_result"
    },
    {
     "data": {
      "image/png": "[encoded data removed]",
      "text/plain": [
       "<matplotlib.figure.Figure at 0x11854b550>"
      ]
     },
     "metadata": {},
     "output_type": "display_data"
    }
   ],
   "source": [
    "import matplotlib.pyplot as plt\n",
    "\n",
    "year = populations[:,0]\n",
    "hare = populations[:,1]\n",
    "lynx = populations[:,2]\n",
    "carrot = populations[:,3]\n",
    "plt.plot(year, hare, 'b-')\n",
    "plt.plot(year, lynx, 'r-')\n",
    "plt.plot(year, carrot, 'g-')\n",
    "plt.title(u'População')\n",
    "plt.legend(('Lebre', 'Lince', 'Cenouras'))"
   ]
  },
  {
   "cell_type": "code",
   "execution_count": 31,
   "metadata": {},
   "outputs": [
    {
     "data": {
      "text/plain": [
       "[<matplotlib.lines.Line2D at 0x10efea940>]"
      ]
     },
     "execution_count": 31,
     "metadata": {},
     "output_type": "execute_result"
    },
    {
     "data": {
      "image/png": "[encoded data removed]",
      "text/plain": [
       "<matplotlib.figure.Figure at 0x10efea4e0>"
      ]
     },
     "metadata": {},
     "output_type": "display_data"
    }
   ],
   "source": [
    "X = linspace(-pi, pi, 256)\n",
    "C = cos(X)\n",
    "S = sin(X)\n",
    "plot(X, C)\n",
    "plot(X, S)"
   ]
  },
  {
   "cell_type": "code",
   "execution_count": null,
   "metadata": {
    "collapsed": true
   },
   "outputs": [],
   "source": []
  }
 ],
 "metadata": {
  "kernelspec": {
   "display_name": "Python 3",
   "language": "python",
   "name": "python3"
  },
  "language_info": {
   "codemirror_mode": {
    "name": "ipython",
    "version": 3
   },
   "file_extension": ".py",
   "mimetype": "text/x-python",
   "name": "python",
   "nbconvert_exporter": "python",
   "pygments_lexer": "ipython3",
   "version": "3.6.3"
  }
 },
 "nbformat": 4,
 "nbformat_minor": 2
}
